{
  "nbformat": 4,
  "nbformat_minor": 0,
  "metadata": {
    "colab": {
      "name": "021 ~ 050 .ipynb",
      "provenance": [],
      "collapsed_sections": [
        "sjJDaValz3_N"
      ],
      "authorship_tag": "ABX9TyP2MJl7A6bZtYY4LN7HnU2l",
      "include_colab_link": true
    },
    "kernelspec": {
      "name": "python3",
      "display_name": "Python 3"
    },
    "language_info": {
      "name": "python"
    }
  },
  "cells": [
    {
      "cell_type": "markdown",
      "metadata": {
        "id": "view-in-github",
        "colab_type": "text"
      },
      "source": [
        "<a href=\"https://colab.research.google.com/github/yeoonju/python300_book/blob/main/021_~_050_.ipynb\" target=\"_parent\"><img src=\"https://colab.research.google.com/assets/colab-badge.svg\" alt=\"Open In Colab\"/></a>"
      ]
    },
    {
      "cell_type": "markdown",
      "metadata": {
        "id": "7TywA2qmmjWv"
      },
      "source": [
        "## 021 문자열 인덱싱\n",
        "\n",
        "letters가 바인딩하는 문자열에서 첫번째와 세번째 문자를 출력하세요."
      ]
    },
    {
      "cell_type": "code",
      "metadata": {
        "colab": {
          "base_uri": "https://localhost:8080/"
        },
        "id": "GTOdKUWul58_",
        "outputId": "9e458267-808f-4ad5-9d2f-7b1d69e10f9e"
      },
      "source": [
        "letters = 'python'\n",
        "print(letters[0],letters[2])"
      ],
      "execution_count": 6,
      "outputs": [
        {
          "output_type": "stream",
          "text": [
            "p t\n"
          ],
          "name": "stdout"
        }
      ]
    },
    {
      "cell_type": "markdown",
      "metadata": {
        "id": "lzWUdeJQnwNA"
      },
      "source": [
        "## 022 문자열 슬라이싱\n",
        "\n",
        "자동차 번호가 다음과 같을 때 뒤에 4자리만 출력하세요."
      ]
    },
    {
      "cell_type": "code",
      "metadata": {
        "colab": {
          "base_uri": "https://localhost:8080/"
        },
        "id": "24rplliGnXyL",
        "outputId": "807209cf-7c7d-4584-f201-77d3104fd942"
      },
      "source": [
        "license_plate = \"24가 2210\"\n",
        "print(license_plate[4:8])\n",
        "print(license_plate[-4:])"
      ],
      "execution_count": 11,
      "outputs": [
        {
          "output_type": "stream",
          "text": [
            "2210\n",
            "2210\n"
          ],
          "name": "stdout"
        }
      ]
    },
    {
      "cell_type": "markdown",
      "metadata": {
        "id": "nig6-k09oFaL"
      },
      "source": [
        "## 023 문자열 인덱싱\n",
        "\n",
        "아래의 문자열에서 '홀' 만 출력하세요."
      ]
    },
    {
      "cell_type": "code",
      "metadata": {
        "colab": {
          "base_uri": "https://localhost:8080/"
        },
        "id": "YaDPmpLfoIoq",
        "outputId": "be5db9c6-b630-4711-be8e-218150cf8222"
      },
      "source": [
        "string = \"홀짝홀짝홀짝\"\n",
        "print(string[::2])\n",
        "print(string[1::2])"
      ],
      "execution_count": 21,
      "outputs": [
        {
          "output_type": "stream",
          "text": [
            "홀홀홀\n",
            "짝짝짝\n"
          ],
          "name": "stdout"
        }
      ]
    },
    {
      "cell_type": "markdown",
      "metadata": {
        "id": "u-H5aN0fo8FH"
      },
      "source": [
        "## 024 문자열 슬라이싱\n",
        "\n",
        "문자열을 거꾸로 뒤집어 출력하세요."
      ]
    },
    {
      "cell_type": "code",
      "metadata": {
        "colab": {
          "base_uri": "https://localhost:8080/",
          "height": 70
        },
        "id": "v5NfIMU1o-15",
        "outputId": "10edec85-aa78-42e3-b59e-7beefc47d2a6"
      },
      "source": [
        "string = \"PYTHON\"\n",
        "print(string[::-1])\n",
        "\n",
        "print(\"\".join(reversed(string)))\n",
        "str(reversed(string))"
      ],
      "execution_count": 91,
      "outputs": [
        {
          "output_type": "stream",
          "text": [
            "NOHTYP\n",
            "NOHTYP\n"
          ],
          "name": "stdout"
        },
        {
          "output_type": "execute_result",
          "data": {
            "application/vnd.google.colaboratory.intrinsic+json": {
              "type": "string"
            },
            "text/plain": [
              "'<reversed object at 0x7fb26e207390>'"
            ]
          },
          "metadata": {
            "tags": []
          },
          "execution_count": 91
        }
      ]
    },
    {
      "cell_type": "markdown",
      "metadata": {
        "id": "zg2JgdN2vsQZ"
      },
      "source": [
        "## 025 문자열 치환\n",
        "\n",
        "아래의 전화번호에서 하이푼 ('-')을 제거하고 출력하세요."
      ]
    },
    {
      "cell_type": "code",
      "metadata": {
        "colab": {
          "base_uri": "https://localhost:8080/"
        },
        "id": "czFKROdUqAIV",
        "outputId": "9b7fe5af-2da5-420a-be0a-5631f6c282ae"
      },
      "source": [
        "phone_number = \"010-1111-2222\"\n",
        "print(phone_number.replace(\"-\",\" \"))"
      ],
      "execution_count": 45,
      "outputs": [
        {
          "output_type": "stream",
          "text": [
            "010 1111 2222\n"
          ],
          "name": "stdout"
        }
      ]
    },
    {
      "cell_type": "markdown",
      "metadata": {
        "id": "9rkb8MNiyQSq"
      },
      "source": [
        "## 026 문자열 다루기\n",
        "\n",
        "모두 붙여 출력하세요."
      ]
    },
    {
      "cell_type": "code",
      "metadata": {
        "colab": {
          "base_uri": "https://localhost:8080/"
        },
        "id": "JPdJRZ-fyW9n",
        "outputId": "9f22eaf7-7f00-4efa-e1b4-2f95d4e7f17d"
      },
      "source": [
        "phone_number = \"010-1111-2222\"\n",
        "pn = phone_number.replace(\"-\",\"\")\n",
        "print(pn)"
      ],
      "execution_count": 48,
      "outputs": [
        {
          "output_type": "stream",
          "text": [
            "01011112222\n"
          ],
          "name": "stdout"
        }
      ]
    },
    {
      "cell_type": "markdown",
      "metadata": {
        "id": "DW5uB8Hmyld1"
      },
      "source": [
        "url 에 저장된 웹 페이지 주소에서 도메인을 출력하세요."
      ]
    },
    {
      "cell_type": "code",
      "metadata": {
        "colab": {
          "base_uri": "https://localhost:8080/"
        },
        "id": "ptOUUaIWywOc",
        "outputId": "4529cfc7-e7b5-40a9-bec6-fdb03bf4af3a"
      },
      "source": [
        "url = \"http://sharebook.kr\"\n",
        "domain = url[-2:]\n",
        "print(domain)\n",
        "domain = url.split('.')\n",
        "do = domain[-1]\n",
        "print(do)"
      ],
      "execution_count": 53,
      "outputs": [
        {
          "output_type": "stream",
          "text": [
            "kr\n",
            "kr\n"
          ],
          "name": "stdout"
        }
      ]
    },
    {
      "cell_type": "markdown",
      "metadata": {
        "id": "sjJDaValz3_N"
      },
      "source": [
        "## 029 replace 메서드\n",
        "\n",
        "아래 문자열에서 소문자 'a'를 대문자 'A'로 변경하세요.**굵은 텍스트**"
      ]
    },
    {
      "cell_type": "code",
      "metadata": {
        "colab": {
          "base_uri": "https://localhost:8080/"
        },
        "id": "TCazvjWC0cb2",
        "outputId": "7f62f97d-b9ed-470a-c3a2-03ad9a12c473"
      },
      "source": [
        "string = 'abcdfe2a354a32a'\n",
        "cha = string.replace('a','A')\n",
        "print(cha)"
      ],
      "execution_count": 54,
      "outputs": [
        {
          "output_type": "stream",
          "text": [
            "Abcdfe2A354A32A\n"
          ],
          "name": "stdout"
        }
      ]
    },
    {
      "cell_type": "markdown",
      "metadata": {
        "id": "ndWs12Pe00n0"
      },
      "source": [
        "## 033 문자열 곱하기\n",
        "\n",
        "화면에 '-'를 80개 출력하세요."
      ]
    },
    {
      "cell_type": "code",
      "metadata": {
        "colab": {
          "base_uri": "https://localhost:8080/"
        },
        "id": "AzVKP35J1Brx",
        "outputId": "4bc9f8f6-69c8-4017-8da9-623a3808ae4f"
      },
      "source": [
        "print(\"-\"*80)"
      ],
      "execution_count": 55,
      "outputs": [
        {
          "output_type": "stream",
          "text": [
            "--------------------------------------------------------------------------------\n"
          ],
          "name": "stdout"
        }
      ]
    },
    {
      "cell_type": "markdown",
      "metadata": {
        "id": "7aJ269e31UPx"
      },
      "source": [
        "## 034 문자열 곱하기\n",
        "\n",
        "변수에 다음과 같은 문자열이 바인딩되어 있습니다.\n",
        "\n"
      ]
    },
    {
      "cell_type": "code",
      "metadata": {
        "colab": {
          "base_uri": "https://localhost:8080/"
        },
        "id": "ufBpDZbY1W5t",
        "outputId": "f9e252b7-5921-4fef-c772-fee7dc58f7c9"
      },
      "source": [
        "t1 = 'python'\n",
        "t2 = 'java'\n",
        "t3 = t1 + ' ' + t2 + ' '\n",
        "print(t3*4)"
      ],
      "execution_count": 59,
      "outputs": [
        {
          "output_type": "stream",
          "text": [
            "python java python java python java python java \n"
          ],
          "name": "stdout"
        }
      ]
    },
    {
      "cell_type": "markdown",
      "metadata": {
        "id": "-MB0i3-T1umk"
      },
      "source": [
        "## 035 문자열 출력\n",
        "\n",
        "변수에 다음과 같이 문자열과 정수가 바인딩되어 있을 때 % formatting을 사용해서 다음과 같이 출력해보세요."
      ]
    },
    {
      "cell_type": "code",
      "metadata": {
        "colab": {
          "base_uri": "https://localhost:8080/"
        },
        "id": "knt2zFEg1yIy",
        "outputId": "c00cf3a3-a97a-4f47-dc02-d0e78c88622c"
      },
      "source": [
        "name1 = \"김민수\" \n",
        "age1 = 10\n",
        "name2 = \"이철희\"\n",
        "age2 = 13\n",
        "\n",
        "print(\"이름:\",name1, \"나이:\",age1)\n",
        "print(\"이름:\",name2, \"나이:\",age2)\n",
        "print(\"\\n\")\n",
        "print(\"이름: %s 나이: %d\" % (name1, age1)) # % formatting 방식 이용해서 \n",
        "print(\"이름: %s 나이: %d\" % (name2, age2))\n",
        "print(\"\\n\")\n",
        "print('이름: {} 나이: {}'.format(name1,age1)) # format() method를 이용 \n",
        "print('이름: {} 나이: {}'.format(name2,age2))\n",
        "print(\"\\n\")\n",
        "result1 = f'이름: {name1} 나이: {age1}'\n",
        "result2 = f'이름: {name1} 나이: {age1}'\n",
        "print(result1)\n",
        "print(result2)"
      ],
      "execution_count": 73,
      "outputs": [
        {
          "output_type": "stream",
          "text": [
            "이름: 김민수 나이: 10\n",
            "이름: 이철희 나이: 13\n",
            "\n",
            "\n",
            "이름: 김민수 나이: 10\n",
            "이름: 이철희 나이: 13\n",
            "\n",
            "\n",
            "이름: 김민수 나이: 10\n",
            "이름: 이철희 나이: 13\n",
            "\n",
            "\n",
            "이름: 김민수 나이: 10\n",
            "이름: 김민수 나이: 10\n"
          ],
          "name": "stdout"
        }
      ]
    },
    {
      "cell_type": "markdown",
      "metadata": {
        "id": "yEYOV2Wp4dN9"
      },
      "source": [
        "## 038 컴마 제거하기\n",
        "\n",
        "삼성전자의 상장주식수가 다음과 같습니다. 컴마를 제거한 후 이를 정수 타입으로 변환해보세요."
      ]
    },
    {
      "cell_type": "code",
      "metadata": {
        "colab": {
          "base_uri": "https://localhost:8080/"
        },
        "id": "eq6T4IlZ2Z3L",
        "outputId": "bca247d8-1837-4e9d-a81d-821857bf71da"
      },
      "source": [
        "a = \"5,969,782,550\"\n",
        "ar = a.replace(\",\",\"\")\n",
        "ari = int(ar)\n",
        "print(ari, type(ari))"
      ],
      "execution_count": 80,
      "outputs": [
        {
          "output_type": "stream",
          "text": [
            "5969782550 <class 'int'>\n"
          ],
          "name": "stdout"
        }
      ]
    },
    {
      "cell_type": "markdown",
      "metadata": {
        "id": "INvQMpOe44uK"
      },
      "source": [
        "## 039 문자열 슬라이싱\n",
        "\n",
        "다음과 같은 문자열에서 '2020/03'만 출력하세요."
      ]
    },
    {
      "cell_type": "code",
      "metadata": {
        "colab": {
          "base_uri": "https://localhost:8080/"
        },
        "id": "lc2Idwxw48Fp",
        "outputId": "f073eb63-382e-4871-bf26-048b26606996"
      },
      "source": [
        "ye = \"2020/03(E) (IFRS연결)\"\n",
        "yes = ye[:7]\n",
        "print(yes)"
      ],
      "execution_count": 82,
      "outputs": [
        {
          "output_type": "stream",
          "text": [
            "2020/03\n"
          ],
          "name": "stdout"
        }
      ]
    },
    {
      "cell_type": "markdown",
      "metadata": {
        "id": "eUWQ7RSw5JoV"
      },
      "source": [
        "## 040 strip 메서드\n",
        "\n",
        "문자열의 좌우의 공백이 있을 때 이를 제거해보세요."
      ]
    },
    {
      "cell_type": "code",
      "metadata": {
        "colab": {
          "base_uri": "https://localhost:8080/"
        },
        "id": "TZVZU1F95NaV",
        "outputId": "23223775-41b0-4052-c4c8-71a112b2fdd2"
      },
      "source": [
        "data = \"   삼성전자    \"\n",
        "datare = data.replace(\" \",\"\")\n",
        "print(datare)\n",
        "\n",
        "data1 = data.strip()\n",
        "print(data1)"
      ],
      "execution_count": 85,
      "outputs": [
        {
          "output_type": "stream",
          "text": [
            "삼성전자\n",
            "삼성전자\n"
          ],
          "name": "stdout"
        }
      ]
    },
    {
      "cell_type": "markdown",
      "metadata": {
        "id": "6l6SML0f5-D0"
      },
      "source": [
        "## 041 upper 메서드\n",
        "\n",
        "다음과 같은 문자열이 있을 때 이를 대문자 BTC_KRW로 변경하세요."
      ]
    },
    {
      "cell_type": "code",
      "metadata": {
        "colab": {
          "base_uri": "https://localhost:8080/"
        },
        "id": "EyM7wlRX6BJK",
        "outputId": "f08858a6-b3f1-456c-b9e0-f158c6760d5a"
      },
      "source": [
        "ticker = \"btc_krw\"\n",
        "tu = ticker.upper()\n",
        "print(tu)"
      ],
      "execution_count": 89,
      "outputs": [
        {
          "output_type": "stream",
          "text": [
            "BTC_KRW\n"
          ],
          "name": "stdout"
        }
      ]
    },
    {
      "cell_type": "markdown",
      "metadata": {
        "id": "hrkSzOzF6ZNW"
      },
      "source": [
        "## 042 lower 메서드\n",
        "\n",
        "다음과 같은 문자열이 있을 때 이를 소문자 btc_krw로 변경하세요."
      ]
    },
    {
      "cell_type": "code",
      "metadata": {
        "colab": {
          "base_uri": "https://localhost:8080/"
        },
        "id": "v9ah9aG36cTU",
        "outputId": "d933017f-8869-46fc-d9d7-a1c3a2fcbfe3"
      },
      "source": [
        "ticker = \"BTC_KRW\"\n",
        "tl = ticker.lower()\n",
        "print(tl)"
      ],
      "execution_count": 92,
      "outputs": [
        {
          "output_type": "stream",
          "text": [
            "btc_krw\n"
          ],
          "name": "stdout"
        }
      ]
    },
    {
      "cell_type": "markdown",
      "metadata": {
        "id": "Eguvsxjm6jdi"
      },
      "source": [
        "## 043 capitalize 메서드\n",
        "\n",
        "문자열 'hello'가 있을 때 이를 'Hello'로 변경해보세요."
      ]
    },
    {
      "cell_type": "code",
      "metadata": {
        "colab": {
          "base_uri": "https://localhost:8080/",
          "height": 35
        },
        "id": "_NdTak-J6mb7",
        "outputId": "68599659-ae19-46cf-a095-81462790442a"
      },
      "source": [
        "string = 'hello'\n",
        "sr = string.replace('h','H')\n",
        "sr\n",
        "sc = string.capitalize()\n",
        "sc"
      ],
      "execution_count": 100,
      "outputs": [
        {
          "output_type": "execute_result",
          "data": {
            "application/vnd.google.colaboratory.intrinsic+json": {
              "type": "string"
            },
            "text/plain": [
              "'Hello'"
            ]
          },
          "metadata": {
            "tags": []
          },
          "execution_count": 100
        }
      ]
    },
    {
      "cell_type": "markdown",
      "metadata": {
        "id": "CzI8YZOb7zaQ"
      },
      "source": [
        "## 044 endswith 메서드\n",
        "\n",
        "파일 이름이 문자열로 저장되어 있을 때 endswith 메서드를 사용해서 파일 이름이 'xlsx'로 끝나는지 확인해보세요."
      ]
    },
    {
      "cell_type": "code",
      "metadata": {
        "colab": {
          "base_uri": "https://localhost:8080/"
        },
        "id": "2GGXiTw274my",
        "outputId": "30a0e475-07d4-4bc4-ce4e-74ef3de33e46"
      },
      "source": [
        "file_name = \"보고서.xlsx\"\n",
        "file_name.endswith(\"xlsx\")"
      ],
      "execution_count": 101,
      "outputs": [
        {
          "output_type": "execute_result",
          "data": {
            "text/plain": [
              "True"
            ]
          },
          "metadata": {
            "tags": []
          },
          "execution_count": 101
        }
      ]
    },
    {
      "cell_type": "markdown",
      "metadata": {
        "id": "EMtbErQJ8Nl-"
      },
      "source": [
        "## 046 startswith 메서드\n",
        "\n",
        "파일 이름이 문자열로 저장되어 있을 때 startswith 메서드를 사용해서 파일 이름이 '2020'로 시작하는지 확인해보세요."
      ]
    },
    {
      "cell_type": "code",
      "metadata": {
        "colab": {
          "base_uri": "https://localhost:8080/"
        },
        "id": "wTHTUCeq8Rp0",
        "outputId": "3b56747e-8b34-45f1-fcef-a41c1c8f7ef8"
      },
      "source": [
        "file_name = \"2020_보고서.xlsx\"\n",
        "file_name.startswith(\"2020\")"
      ],
      "execution_count": 105,
      "outputs": [
        {
          "output_type": "execute_result",
          "data": {
            "text/plain": [
              "True"
            ]
          },
          "metadata": {
            "tags": []
          },
          "execution_count": 105
        }
      ]
    },
    {
      "cell_type": "markdown",
      "metadata": {
        "id": "dXzUHwnv8bHL"
      },
      "source": [
        "## 047 split 메서드\n",
        "\n",
        "다음과 같은 문자열이 있을 때 공백을 기준으로 문자열을 나눠보세요."
      ]
    },
    {
      "cell_type": "code",
      "metadata": {
        "colab": {
          "base_uri": "https://localhost:8080/"
        },
        "id": "I2iwqGE78d2k",
        "outputId": "60fa4c59-2c8b-4000-8eee-76a26b19a985"
      },
      "source": [
        "a = \"hello world\"\n",
        "a.split()"
      ],
      "execution_count": 106,
      "outputs": [
        {
          "output_type": "execute_result",
          "data": {
            "text/plain": [
              "['hello', 'world']"
            ]
          },
          "metadata": {
            "tags": []
          },
          "execution_count": 106
        }
      ]
    },
    {
      "cell_type": "markdown",
      "metadata": {
        "id": "H_LzE8nY8ivK"
      },
      "source": [
        "## 048 split 메서드\n",
        "\n",
        "다음과 같이 문자열이 있을 때 btc와 krw로 나눠보세요."
      ]
    },
    {
      "cell_type": "code",
      "metadata": {
        "colab": {
          "base_uri": "https://localhost:8080/"
        },
        "id": "psELlhN88n1x",
        "outputId": "30533702-4564-4a7b-bfda-c9852139d7d8"
      },
      "source": [
        "ticker = \"btc_krw\"\n",
        "ticker.split(\"_\")"
      ],
      "execution_count": 108,
      "outputs": [
        {
          "output_type": "execute_result",
          "data": {
            "text/plain": [
              "['btc', 'krw']"
            ]
          },
          "metadata": {
            "tags": []
          },
          "execution_count": 108
        }
      ]
    },
    {
      "cell_type": "markdown",
      "metadata": {
        "id": "a2hExOCt8vuS"
      },
      "source": [
        "## 049 split 메서드\n",
        "\n",
        "다음과 같이 날짜를 표현하는 문자열이 있을 때 연도, 월, 일로 나눠보세요."
      ]
    },
    {
      "cell_type": "code",
      "metadata": {
        "colab": {
          "base_uri": "https://localhost:8080/"
        },
        "id": "taFywkIf8zB1",
        "outputId": "be5bd8b7-9fa7-4916-8f25-498cf4916ea3"
      },
      "source": [
        "date = \"2020-05-01\"\n",
        "date.split(\"-\")"
      ],
      "execution_count": 109,
      "outputs": [
        {
          "output_type": "execute_result",
          "data": {
            "text/plain": [
              "['2020', '05', '01']"
            ]
          },
          "metadata": {
            "tags": []
          },
          "execution_count": 109
        }
      ]
    },
    {
      "cell_type": "markdown",
      "metadata": {
        "id": "kxpJMgJP82xu"
      },
      "source": [
        "## 050 rstrip 메서드\n",
        "\n",
        "문자열의 오른쪽에 공백이 있을 때 이를 제거해보세요."
      ]
    },
    {
      "cell_type": "code",
      "metadata": {
        "colab": {
          "base_uri": "https://localhost:8080/",
          "height": 35
        },
        "id": "5DwpU92O85m9",
        "outputId": "8917a3fb-22be-4b53-b7b6-a4ecfa89a738"
      },
      "source": [
        "data = \"039490     \"\n",
        "data = data.rstrip()\n",
        "data"
      ],
      "execution_count": 114,
      "outputs": [
        {
          "output_type": "execute_result",
          "data": {
            "application/vnd.google.colaboratory.intrinsic+json": {
              "type": "string"
            },
            "text/plain": [
              "'039490'"
            ]
          },
          "metadata": {
            "tags": []
          },
          "execution_count": 114
        }
      ]
    }
  ]
}