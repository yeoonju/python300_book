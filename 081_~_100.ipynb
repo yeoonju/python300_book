{
  "nbformat": 4,
  "nbformat_minor": 0,
  "metadata": {
    "colab": {
      "name": "081 ~ 100.ipynb",
      "provenance": [],
      "collapsed_sections": [],
      "authorship_tag": "ABX9TyOMq5uO1sguE9wgnLI+/OJn",
      "include_colab_link": true
    },
    "kernelspec": {
      "display_name": "Python 3",
      "name": "python3"
    },
    "language_info": {
      "name": "python"
    }
  },
  "cells": [
    {
      "cell_type": "markdown",
      "metadata": {
        "id": "view-in-github",
        "colab_type": "text"
      },
      "source": [
        "<a href=\"https://colab.research.google.com/github/yeoonju/python300_book/blob/main/081_~_100.ipynb\" target=\"_parent\"><img src=\"https://colab.research.google.com/assets/colab-badge.svg\" alt=\"Open In Colab\"/></a>"
      ]
    },
    {
      "cell_type": "markdown",
      "metadata": {
        "id": "hCwEsExy7tNS"
      },
      "source": [
        "## 081 별 표현식\n",
        "\n"
      ]
    },
    {
      "cell_type": "code",
      "metadata": {
        "colab": {
          "base_uri": "https://localhost:8080/"
        },
        "id": "r1zesHlw7lhS",
        "outputId": "5e6f168d-6e43-456d-ef2e-fcf5abe12d62"
      },
      "source": [
        "scores = [8.8, 8.9, 8.7, 9.2, 9.3, 9.7, 9.9, 9.5, 7.8, 9.4]\n",
        "*valid_score, _, _= scores\n",
        "print(*valid_score)"
      ],
      "execution_count": null,
      "outputs": [
        {
          "output_type": "stream",
          "text": [
            "8.8 8.9 8.7 9.2 9.3 9.7 9.9 9.5\n"
          ],
          "name": "stdout"
        }
      ]
    },
    {
      "cell_type": "markdown",
      "metadata": {
        "id": "EJpWeC_E-AMm"
      },
      "source": [
        "## 084 비어있는 딕셔너리 \n",
        "\n",
        "temp 이름의 비어있는 딕셔너리를 만들라."
      ]
    },
    {
      "cell_type": "code",
      "metadata": {
        "id": "NehFCmWM-FmO"
      },
      "source": [
        "temp = {}"
      ],
      "execution_count": null,
      "outputs": []
    },
    {
      "cell_type": "markdown",
      "metadata": {
        "id": "eNk5Dhq2-f5p"
      },
      "source": [
        "## 085\n",
        "\n",
        "다음 아이스크림 이름과 희망 가격을 딕셔너리로 구성하라."
      ]
    },
    {
      "cell_type": "code",
      "metadata": {
        "colab": {
          "base_uri": "https://localhost:8080/"
        },
        "id": "HV53Xsn2-ryK",
        "outputId": "c0080dd0-3ed2-44a3-87ed-def39b0d264a"
      },
      "source": [
        "icecream = {'메로나':1000, '폴라포':1200, '빵빠레':1800}\n",
        "print(icecream)"
      ],
      "execution_count": null,
      "outputs": [
        {
          "output_type": "stream",
          "text": [
            "{'메로나': 1000, '폴라포': 1200, '빵빠레': 1800}\n"
          ],
          "name": "stdout"
        }
      ]
    },
    {
      "cell_type": "markdown",
      "metadata": {
        "id": "FZ_ORTj6_GJx"
      },
      "source": [
        "## 086\n",
        "\n",
        "085 번의 딕셔너리에 아래 아이스크림 가격정보를 추가하라."
      ]
    },
    {
      "cell_type": "code",
      "metadata": {
        "colab": {
          "base_uri": "https://localhost:8080/"
        },
        "id": "2ma1aPeM_YEv",
        "outputId": "6433cd9a-80fc-4938-bfeb-8f2b1be69579"
      },
      "source": [
        "icecream = {'메로나':1000, '폴라포':1200, '빵빠레':1800}\n",
        "icecream['죠스바'] = 1200\n",
        "icecream['월드콘'] = 1500\n",
        "print(icecream)"
      ],
      "execution_count": null,
      "outputs": [
        {
          "output_type": "stream",
          "text": [
            "{'메로나': 1000, '폴라포': 1200, '빵빠레': 1800, '죠스바': 1200, '월드콘': 1500}\n"
          ],
          "name": "stdout"
        }
      ]
    },
    {
      "cell_type": "markdown",
      "metadata": {
        "id": "Qgncb9QG_npX"
      },
      "source": [
        "## 087\n",
        "다음 딕셔너리를 사용하여 메로나 가격을 출력하라."
      ]
    },
    {
      "cell_type": "code",
      "metadata": {
        "colab": {
          "base_uri": "https://localhost:8080/"
        },
        "id": "Jz6SV5Q-_qbO",
        "outputId": "ae045614-b87d-47a7-8b13-cf78c766450b"
      },
      "source": [
        "ice = {'메로나': 1000,\n",
        "       '폴로포': 1200,\n",
        "       '빵빠레': 1800,\n",
        "       '죠스바': 1200,\n",
        "       '월드콘': 1500}\n",
        "print('메로나 가격 : ', ice['메로나'])"
      ],
      "execution_count": null,
      "outputs": [
        {
          "output_type": "stream",
          "text": [
            "메로나 가격 :  1000\n"
          ],
          "name": "stdout"
        }
      ]
    },
    {
      "cell_type": "markdown",
      "metadata": {
        "id": "zpJSqoBk_8Ou"
      },
      "source": [
        "## 088\n",
        "\n",
        "다음 딕셔너리에서 메로나의 가격을 1300으로 수정하라."
      ]
    },
    {
      "cell_type": "code",
      "metadata": {
        "id": "9rVcPcpoAFNR"
      },
      "source": [
        "ice = {'메로나': 1000,\n",
        "       '폴로포': 1200,\n",
        "       '빵빠레': 1800,\n",
        "       '죠스바': 1200,\n",
        "       '월드콘': 1500}\n",
        "ice['메로나'] = 1300"
      ],
      "execution_count": null,
      "outputs": []
    },
    {
      "cell_type": "markdown",
      "metadata": {
        "id": "zpcI-ljZAOBq"
      },
      "source": [
        "## 089\n",
        "다음 딕셔너리에서 메로나를 삭제하라."
      ]
    },
    {
      "cell_type": "code",
      "metadata": {
        "colab": {
          "base_uri": "https://localhost:8080/"
        },
        "id": "mH9J0M2aAQfD",
        "outputId": "e4c87afd-9099-497a-838a-dc65d3da2290"
      },
      "source": [
        "ice = {'메로나': 1000,\n",
        "       '폴로포': 1200,\n",
        "       '빵빠레': 1800,\n",
        "       '죠스바': 1200,\n",
        "       '월드콘': 1500}\n",
        "del ice['메로나']\n",
        "print(ice)"
      ],
      "execution_count": null,
      "outputs": [
        {
          "output_type": "stream",
          "text": [
            "{'폴로포': 1200, '빵빠레': 1800, '죠스바': 1200, '월드콘': 1500}\n"
          ],
          "name": "stdout"
        }
      ]
    },
    {
      "cell_type": "markdown",
      "metadata": {
        "id": "H_7PSZw0AZpG"
      },
      "source": [
        "## 091 딕셔너리 생성\n",
        "\n",
        "아래의 표에서, 아이스크림 이름을 키값으로, (가격, 재고) 리스트를 딕셔너리의 값으로 저장하라. 딕셔너리의 이름은 inventory로 한다."
      ]
    },
    {
      "cell_type": "code",
      "metadata": {
        "colab": {
          "base_uri": "https://localhost:8080/"
        },
        "id": "p4efb1rH4nWy",
        "outputId": "0d18d4ae-7235-48cc-d485-3afe2a1eb135"
      },
      "source": [
        "inventory = {'메로나':[300,20],\n",
        "             '비비빅':[400, 3], \n",
        "             '죠스바':[250,100]}\n",
        "print(inventory)"
      ],
      "execution_count": null,
      "outputs": [
        {
          "output_type": "stream",
          "text": [
            "{'메로나': [300, 20], '비비빅': [400, 3], '죠스바': [250, 100]}\n"
          ],
          "name": "stdout"
        }
      ]
    },
    {
      "cell_type": "markdown",
      "metadata": {
        "id": "iAvSQZeZ5KQP"
      },
      "source": [
        "## 092 딕셔너리 인덱싱\n",
        "\n",
        "inventory 딕셔너리에서 메로나의 가격을 화면에 출력하라."
      ]
    },
    {
      "cell_type": "code",
      "metadata": {
        "colab": {
          "base_uri": "https://localhost:8080/"
        },
        "id": "SwqMWibW5NXh",
        "outputId": "e858da06-2fb2-4378-930d-385589bb3864"
      },
      "source": [
        "print(inventory['메로나'][0], '원')"
      ],
      "execution_count": null,
      "outputs": [
        {
          "output_type": "stream",
          "text": [
            "300 원\n"
          ],
          "name": "stdout"
        }
      ]
    },
    {
      "cell_type": "markdown",
      "metadata": {
        "id": "L97H8nxq5k2V"
      },
      "source": [
        "## 094 딕셔너리 추가\n",
        "\n",
        "inventory 딕셔너리에 아래 데이터를 추가하라."
      ]
    },
    {
      "cell_type": "code",
      "metadata": {
        "colab": {
          "base_uri": "https://localhost:8080/"
        },
        "id": "MZFFgFel5kc9",
        "outputId": "b404a9f5-54c8-40f7-8713-a433185397ae"
      },
      "source": [
        "inventory['월드콘'] = [500,7]\n",
        "print(inventory)"
      ],
      "execution_count": null,
      "outputs": [
        {
          "output_type": "stream",
          "text": [
            "{'메로나': [300, 20], '비비빅': [400, 3], '죠스바': [250, 100], '월드콘': [500, 7]}\n"
          ],
          "name": "stdout"
        }
      ]
    },
    {
      "cell_type": "markdown",
      "metadata": {
        "id": "iAJlGq4Z5q9_"
      },
      "source": [
        "## 095 딕셔너리 keys() values() 메서드\n",
        "\n",
        "다음의 딕셔너리로부터 key 값으로만 구성된 리스트를 생성하라."
      ]
    },
    {
      "cell_type": "code",
      "metadata": {
        "colab": {
          "background_save": true,
          "base_uri": "https://localhost:8080/"
        },
        "id": "dA9rwcfH5qTO",
        "outputId": "38d0124d-c8fd-4fcc-e9a9-b56f28d13fd1"
      },
      "source": [
        "icecream = {'탱크보이': 1200, \n",
        "            '폴라포': 1200, \n",
        "            '빵빠레': 1800, \n",
        "            '월드콘': 1500, \n",
        "            '메로나': 1000}\n",
        "\n",
        "# print(icecream.keys())\n",
        "print(list(icecream.keys()))\n",
        "# print(icecream.values())\n",
        "print(list(icecream.values()))"
      ],
      "execution_count": null,
      "outputs": [
        {
          "output_type": "stream",
          "text": [
            "['탱크보이', '폴라포', '빵빠레', '월드콘', '메로나']\n",
            "[1200, 1200, 1800, 1500, 1000]\n"
          ],
          "name": "stdout"
        }
      ]
    },
    {
      "cell_type": "markdown",
      "metadata": {
        "id": "NLqF7PoP9AFI"
      },
      "source": [
        "## 097 딕셔너리 values() 메서드\n",
        "icecream 딕셔너리에서 아이스크림 판매 금액의 총합을 출력하라."
      ]
    },
    {
      "cell_type": "code",
      "metadata": {
        "id": "ua20BrKW8UWJ"
      },
      "source": [
        "icecream = {'탱크보이': 1200, \n",
        "            '폴라포': 1200, \n",
        "            '빵빠레': 1800, \n",
        "            '월드콘': 1500, \n",
        "            '메로나': 1000}"
      ],
      "execution_count": null,
      "outputs": []
    },
    {
      "cell_type": "code",
      "metadata": {
        "colab": {
          "base_uri": "https://localhost:8080/"
        },
        "id": "FyrlOAmx7yRE",
        "outputId": "45181aa1-b8d9-4e0b-cbad-6df895abe0fd"
      },
      "source": [
        "ice = sum(icecream.values())\n",
        "print(ice)"
      ],
      "execution_count": null,
      "outputs": [
        {
          "output_type": "stream",
          "text": [
            "6700\n"
          ],
          "name": "stdout"
        }
      ]
    },
    {
      "cell_type": "markdown",
      "metadata": {
        "id": "O_PvX7gM9tzr"
      },
      "source": [
        "## 098 딕셔너리 update 메서드\n",
        "아래의 new_product 딕셔너리를 다음 icecream 딕셔너리에 추가하라."
      ]
    },
    {
      "cell_type": "code",
      "metadata": {
        "colab": {
          "base_uri": "https://localhost:8080/"
        },
        "id": "aU2oNYk59wXd",
        "outputId": "b3cfaf83-6342-4a71-8e3a-409583a38fec"
      },
      "source": [
        "icecream = {'탱크보이': 1200, \n",
        "            '폴라포': 1200, \n",
        "            '빵빠레': 1800, \n",
        "            '월드콘': 1500, \n",
        "            '메로나': 1000}\n",
        "\n",
        "new_product = {'팥빙수':2700, \n",
        "               '아맛나':1000}\n",
        "\n",
        "icecream.update(new_product)\n",
        "print(icecream)"
      ],
      "execution_count": null,
      "outputs": [
        {
          "output_type": "stream",
          "text": [
            "{'탱크보이': 1200, '폴라포': 1200, '빵빠레': 1800, '월드콘': 1500, '메로나': 1000, '팥빙수': 2700, '아맛나': 1000}\n"
          ],
          "name": "stdout"
        }
      ]
    },
    {
      "cell_type": "markdown",
      "metadata": {
        "id": "yepyQp7v-e-t"
      },
      "source": [
        "## 099 zip과 dict\n",
        "아래 두 개의 튜플을 하나의 딕셔너리로 변환하라. keys를 키로, vals를 값으로 result 이름의 딕셔너리로 저장한다."
      ]
    },
    {
      "cell_type": "code",
      "metadata": {
        "colab": {
          "base_uri": "https://localhost:8080/"
        },
        "id": "pkCr_Zeo-IVi",
        "outputId": "a2dca071-34a1-4ccd-c880-c66212c3bb43"
      },
      "source": [
        "keys = (\"apple\", \"pear\", \"peach\")\n",
        "vals = (300, 250, 400)\n",
        "\n",
        "result = {}\n",
        "result['apple'] = 300\n",
        "result['pear'] = 250\n",
        "result['peach'] = 400\n",
        "print(result)\n",
        "\n",
        "result = dict(zip(keys,vals))\n",
        "print(result)"
      ],
      "execution_count": null,
      "outputs": [
        {
          "output_type": "stream",
          "text": [
            "{'apple': 300, 'pear': 250, 'peach': 400}\n",
            "{'apple': 300, 'pear': 250, 'peach': 400}\n"
          ],
          "name": "stdout"
        }
      ]
    },
    {
      "cell_type": "markdown",
      "metadata": {
        "id": "mhcs5aty_gVs"
      },
      "source": [
        "## 100 zip과 dict\n",
        "date와 close_price 두 개의 리스트를 close_table 이름의 딕셔너리로 생성하라."
      ]
    },
    {
      "cell_type": "code",
      "metadata": {
        "colab": {
          "base_uri": "https://localhost:8080/"
        },
        "id": "AtSBRmTT-njM",
        "outputId": "d639b6bb-7c1e-4b42-d163-c7a2577166e6"
      },
      "source": [
        "date = ['09/05', '09/06', '09/07', '09/08', '09/09']\n",
        "close_price = [10500, 10300, 10100, 10800, 11000]\n",
        "\n",
        "close_table = dict(zip(date, close_price))\n",
        "print(close_table)"
      ],
      "execution_count": null,
      "outputs": [
        {
          "output_type": "stream",
          "text": [
            "{'09/05': 10500, '09/06': 10300, '09/07': 10100, '09/08': 10800, '09/09': 11000}\n"
          ],
          "name": "stdout"
        }
      ]
    }
  ]
}