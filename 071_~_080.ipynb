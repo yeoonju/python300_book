{
  "nbformat": 4,
  "nbformat_minor": 0,
  "metadata": {
    "colab": {
      "name": "071 ~ 080.ipynb",
      "provenance": [],
      "authorship_tag": "ABX9TyOxiiLUOObt7WfqopqHzpVG",
      "include_colab_link": true
    },
    "kernelspec": {
      "name": "python3",
      "display_name": "Python 3"
    },
    "language_info": {
      "name": "python"
    }
  },
  "cells": [
    {
      "cell_type": "markdown",
      "metadata": {
        "id": "view-in-github",
        "colab_type": "text"
      },
      "source": [
        "<a href=\"https://colab.research.google.com/github/yeoonju/python300_book/blob/main/071_~_080.ipynb\" target=\"_parent\"><img src=\"https://colab.research.google.com/assets/colab-badge.svg\" alt=\"Open In Colab\"/></a>"
      ]
    },
    {
      "cell_type": "markdown",
      "metadata": {
        "id": "fBOB6U9_GQdv"
      },
      "source": [
        "# Tuple\n",
        "\n",
        "element 값을 변경할 수 없음 \n",
        "\n",
        "괄호없이도 동작"
      ]
    },
    {
      "cell_type": "markdown",
      "metadata": {
        "id": "N-mToPOSFWqU"
      },
      "source": [
        "## 071\n",
        "\n",
        "my_variable 이름의 비어있는 튜플을 만들라."
      ]
    },
    {
      "cell_type": "code",
      "metadata": {
        "colab": {
          "base_uri": "https://localhost:8080/"
        },
        "id": "mqOfK0RZFTOL",
        "outputId": "6fc06bc1-9791-4d69-ff1d-aab6bf1e0123"
      },
      "source": [
        "my_variable = ()\n",
        "print(type(my_variable))"
      ],
      "execution_count": 2,
      "outputs": [
        {
          "output_type": "stream",
          "text": [
            "<class 'tuple'>\n"
          ],
          "name": "stdout"
        }
      ]
    },
    {
      "cell_type": "markdown",
      "metadata": {
        "id": "gE9niXzWFeV4"
      },
      "source": [
        "## 072\n",
        "\n",
        "2016년 11월 영화 예매 순위 기준 top3는 다음과 같다. 영화 제목을 movie_rank 이름의 튜플에 저장하라. (순위 정보는 저장하지 않는다.)"
      ]
    },
    {
      "cell_type": "code",
      "metadata": {
        "id": "1A1NfGvEF0WK"
      },
      "source": [
        "movie_rank = ('닥터 스트레인지', '스플릿', '럭키')"
      ],
      "execution_count": 3,
      "outputs": []
    },
    {
      "cell_type": "markdown",
      "metadata": {
        "id": "UIRG0dtWF8kv"
      },
      "source": [
        "## 073\n",
        "\n",
        "숫자 1 이 저장된 튜플을 생성하라."
      ]
    },
    {
      "cell_type": "code",
      "metadata": {
        "colab": {
          "base_uri": "https://localhost:8080/"
        },
        "id": "jGOZPS7dF_bn",
        "outputId": "e054ee51-8fb4-49f4-e1fa-be6a86006480"
      },
      "source": [
        "a =(1)\n",
        "print(type(a))\n",
        "\n",
        "a =(1,)\n",
        "print(type(a))"
      ],
      "execution_count": 5,
      "outputs": [
        {
          "output_type": "stream",
          "text": [
            "<class 'int'>\n",
            "<class 'tuple'>\n"
          ],
          "name": "stdout"
        }
      ]
    },
    {
      "cell_type": "markdown",
      "metadata": {
        "id": "6TsIwBBpSIZv"
      },
      "source": [
        "## 076\n",
        "\n",
        "변수 t에는 아래와 같은 값이 저장되어 있다. 변수 t가 ('A', 'b', 'c') 튜플을 가리키도록 수정 하라."
      ]
    },
    {
      "cell_type": "code",
      "metadata": {
        "id": "j1-uBxmASOmq"
      },
      "source": [
        "t = ('a', 'b', 'c')\n",
        "\n",
        "# t[0] = 'A' # 투플은 값 변경 불가\n",
        "\n",
        "t = ('A', 'b', 'c')"
      ],
      "execution_count": 10,
      "outputs": []
    },
    {
      "cell_type": "markdown",
      "metadata": {
        "id": "cV8p4Fw5TLp4"
      },
      "source": [
        "## 077\n",
        "\n",
        "다음 튜플을 리스트로 변환하라."
      ]
    },
    {
      "cell_type": "code",
      "metadata": {
        "colab": {
          "base_uri": "https://localhost:8080/"
        },
        "id": "fImvUbFjTOpF",
        "outputId": "05dae2c1-6420-48af-b0b5-bac1496bee9e"
      },
      "source": [
        "interest = ('삼성전자', 'LG전자', 'SK Hynix')\n",
        "list(interest)"
      ],
      "execution_count": 11,
      "outputs": [
        {
          "output_type": "execute_result",
          "data": {
            "text/plain": [
              "['삼성전자', 'LG전자', 'SK Hynix']"
            ]
          },
          "metadata": {
            "tags": []
          },
          "execution_count": 11
        }
      ]
    },
    {
      "cell_type": "markdown",
      "metadata": {
        "id": "iAAvuC5nTUy3"
      },
      "source": [
        "## 080 range 함수\n",
        "\n",
        "1 부터 99까지의 정수 중 짝수만 저장된 튜플을 생성하라."
      ]
    },
    {
      "cell_type": "code",
      "metadata": {
        "colab": {
          "base_uri": "https://localhost:8080/"
        },
        "id": "awPscKtCTeZr",
        "outputId": "75404d34-6fdc-4649-c072-c7f16b35b5d8"
      },
      "source": [
        "data = tuple(range(2,100,2))\n",
        "print(data)"
      ],
      "execution_count": 18,
      "outputs": [
        {
          "output_type": "stream",
          "text": [
            "(2, 4, 6, 8, 10, 12, 14, 16, 18, 20, 22, 24, 26, 28, 30, 32, 34, 36, 38, 40, 42, 44, 46, 48, 50, 52, 54, 56, 58, 60, 62, 64, 66, 68, 70, 72, 74, 76, 78, 80, 82, 84, 86, 88, 90, 92, 94, 96, 98)\n"
          ],
          "name": "stdout"
        }
      ]
    }
  ]
}